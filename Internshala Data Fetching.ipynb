{
 "cells": [
  {
   "cell_type": "code",
   "execution_count": 1,
   "id": "90f1bbd8",
   "metadata": {},
   "outputs": [],
   "source": [
    "import requests\n",
    "import pandas as pd\n",
    "from bs4 import BeautifulSoup"
   ]
  },
  {
   "cell_type": "code",
   "execution_count": 5,
   "id": "0ac7d914",
   "metadata": {},
   "outputs": [],
   "source": [
    "webpage = requests.get('https://internshala.com/internships/').text"
   ]
  },
  {
   "cell_type": "code",
   "execution_count": 6,
   "id": "ded8851e",
   "metadata": {},
   "outputs": [],
   "source": [
    "soup = BeautifulSoup(webpage, 'lxml')"
   ]
  },
  {
   "cell_type": "code",
   "execution_count": 9,
   "id": "4a150da7",
   "metadata": {},
   "outputs": [],
   "source": [
    "company = soup.find_all('div', class_ = 'internship_meta')"
   ]
  },
  {
   "cell_type": "code",
   "execution_count": 11,
   "id": "3f0bca98",
   "metadata": {},
   "outputs": [
    {
     "data": {
      "text/plain": [
       "40"
      ]
     },
     "execution_count": 11,
     "metadata": {},
     "output_type": "execute_result"
    }
   ],
   "source": [
    "len(company)"
   ]
  },
  {
   "cell_type": "code",
   "execution_count": 14,
   "id": "0385250e",
   "metadata": {},
   "outputs": [],
   "source": [
    "apply = []\n",
    "for i in company:\n",
    "    apply.append(i.find_all('div', class_ = 'item_body')[3].text.strip())"
   ]
  },
  {
   "cell_type": "code",
   "execution_count": 15,
   "id": "f4cdb057",
   "metadata": {},
   "outputs": [
    {
     "data": {
      "text/plain": [
       "[\"18 Aug' 22\",\n",
       " \"30 Aug' 22\",\n",
       " \"31 Aug' 22\",\n",
       " \"5 Sep' 22\",\n",
       " \"12 Aug' 22\",\n",
       " \"20 Aug' 22\",\n",
       " \"20 Aug' 22\",\n",
       " \"21 Aug' 22\",\n",
       " \"21 Aug' 22\",\n",
       " \"20 Aug' 22\",\n",
       " \"20 Aug' 22\",\n",
       " \"20 Aug' 22\",\n",
       " \"19 Aug' 22\",\n",
       " \"19 Aug' 22\",\n",
       " \"19 Aug' 22\",\n",
       " \"20 Aug' 22\",\n",
       " \"20 Aug' 22\",\n",
       " \"19 Aug' 22\",\n",
       " \"19 Aug' 22\",\n",
       " \"20 Aug' 22\",\n",
       " \"19 Aug' 22\",\n",
       " \"19 Aug' 22\",\n",
       " \"19 Aug' 22\",\n",
       " \"19 Aug' 22\",\n",
       " \"19 Aug' 22\",\n",
       " \"19 Aug' 22\",\n",
       " \"19 Aug' 22\",\n",
       " \"19 Aug' 22\",\n",
       " \"19 Aug' 22\",\n",
       " \"18 Aug' 22\",\n",
       " \"19 Aug' 22\",\n",
       " \"19 Aug' 22\",\n",
       " \"19 Aug' 22\",\n",
       " \"18 Aug' 22\",\n",
       " \"18 Aug' 22\",\n",
       " \"19 Aug' 22\",\n",
       " \"18 Aug' 22\",\n",
       " \"18 Aug' 22\",\n",
       " \"18 Aug' 22\",\n",
       " \"18 Aug' 22\"]"
      ]
     },
     "execution_count": 15,
     "metadata": {},
     "output_type": "execute_result"
    }
   ],
   "source": [
    "apply"
   ]
  },
  {
   "cell_type": "code",
   "execution_count": 21,
   "id": "47d6bd6e",
   "metadata": {},
   "outputs": [],
   "source": [
    "final = pd.DataFrame()\n",
    "\n",
    "for j in range(1,275):\n",
    "    url = 'https://internshala.com/internships/page-{}'.format(j)\n",
    "    webpage = requests.get(url).text\n",
    "    soup = BeautifulSoup(webpage, 'lxml')\n",
    "    \n",
    "    company = soup.find_all('div', class_ = 'internship_meta')\n",
    "    \n",
    "    name = []\n",
    "    category = []\n",
    "    place = []\n",
    "    duration = []\n",
    "    stipend = []\n",
    "    apply = []\n",
    "    \n",
    "\n",
    "    for i in company:\n",
    "        name.append(i.find('a', class_ = 'link_display_like_text view_detail_button').text.strip())\n",
    "        category.append(i.find('a', class_ = 'view_detail_button').text.strip())\n",
    "        place.append(i.find('a', class_= 'location_link view_detail_button').text.strip())\n",
    "        duration.append(i.find_all('div', class_ = 'item_body')[1].text.strip())\n",
    "        stipend.append(i.find('span', class_ = 'stipend').text.strip())\n",
    "        apply.append(i.find_all('div', class_ = 'item_body')[3].text.strip())\n",
    "    \n",
    "    \n",
    "    d = {'name': name, 'type': category, 'place': place, 'duration': duration, 'stipend': stipend, 'apply': apply}\n",
    "    df = pd.DataFrame(d)\n",
    "    final = final.append(df, ignore_index = True)"
   ]
  },
  {
   "cell_type": "code",
   "execution_count": 23,
   "id": "cc7d9b7a",
   "metadata": {},
   "outputs": [
    {
     "data": {
      "text/plain": [
       "(10949, 6)"
      ]
     },
     "execution_count": 23,
     "metadata": {},
     "output_type": "execute_result"
    }
   ],
   "source": [
    "final.shape"
   ]
  },
  {
   "cell_type": "code",
   "execution_count": 24,
   "id": "ff6a7c7f",
   "metadata": {},
   "outputs": [],
   "source": [
    "final.to_csv('Internshala_data.csv')"
   ]
  },
  {
   "cell_type": "code",
   "execution_count": null,
   "id": "dfb3ba3d",
   "metadata": {},
   "outputs": [],
   "source": []
  }
 ],
 "metadata": {
  "kernelspec": {
   "display_name": "Python 3 (ipykernel)",
   "language": "python",
   "name": "python3"
  },
  "language_info": {
   "codemirror_mode": {
    "name": "ipython",
    "version": 3
   },
   "file_extension": ".py",
   "mimetype": "text/x-python",
   "name": "python",
   "nbconvert_exporter": "python",
   "pygments_lexer": "ipython3",
   "version": "3.9.7"
  }
 },
 "nbformat": 4,
 "nbformat_minor": 5
}
